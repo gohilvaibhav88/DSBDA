{
 "cells": [
  {
   "cell_type": "code",
   "execution_count": 36,
   "id": "1c2664aa-a47c-4607-8438-ad11c6ba8349",
   "metadata": {},
   "outputs": [],
   "source": [
    "sample_text=\"these is the sample text in which we will perform tokenization and all other things\"\n"
   ]
  },
  {
   "cell_type": "code",
   "execution_count": 37,
   "id": "c1e940eb-430d-4c63-816d-44f8a7835c1d",
   "metadata": {},
   "outputs": [],
   "source": [
    "import nltk \n",
    "from nltk.tokenize import word_tokenize"
   ]
  },
  {
   "cell_type": "code",
   "execution_count": 38,
   "id": "3311b9e0-8d8a-42b1-9975-24bc2f172563",
   "metadata": {},
   "outputs": [
    {
     "data": {
      "text/plain": [
       "'these is the sample text in which we will perform tokenization and all other things'"
      ]
     },
     "execution_count": 38,
     "metadata": {},
     "output_type": "execute_result"
    }
   ],
   "source": [
    "sample_text.lower()"
   ]
  },
  {
   "cell_type": "code",
   "execution_count": 39,
   "id": "a7cf5dfd-35c1-4d08-a48d-eef776a2efff",
   "metadata": {},
   "outputs": [],
   "source": [
    "words = word_tokenize(sample_text)"
   ]
  },
  {
   "cell_type": "code",
   "execution_count": 40,
   "id": "1bb810e8-b596-43ac-b6a6-92dec2dd7cd2",
   "metadata": {},
   "outputs": [
    {
     "name": "stdout",
     "output_type": "stream",
     "text": [
      "['these', 'is', 'the', 'sample', 'text', 'in', 'which', 'we', 'will', 'perform', 'tokenization', 'and', 'all', 'other', 'things']\n"
     ]
    }
   ],
   "source": [
    "#these is the first method of tokenization firstly tokenize the word \n",
    "print(words)\n"
   ]
  },
  {
   "cell_type": "code",
   "execution_count": 41,
   "id": "7588eee7-0883-443a-a916-0bf5977631d2",
   "metadata": {},
   "outputs": [],
   "source": [
    "# step 2 removing of the stop words these are non informative words in english language like he she it to and between in which and all other "
   ]
  },
  {
   "cell_type": "code",
   "execution_count": 42,
   "id": "1b0fa919-9725-4d22-9179-420ede3afb9e",
   "metadata": {},
   "outputs": [],
   "source": [
    "from nltk.corpus import stopwords "
   ]
  },
  {
   "cell_type": "code",
   "execution_count": 43,
   "id": "8b80f2c6-5346-47f1-981f-21457fb6eb01",
   "metadata": {},
   "outputs": [],
   "source": [
    "stop_words = set(stopwords.words('english'))"
   ]
  },
  {
   "cell_type": "code",
   "execution_count": 44,
   "id": "f3470772-d133-4a27-a59e-5a47723290ab",
   "metadata": {},
   "outputs": [
    {
     "name": "stderr",
     "output_type": "stream",
     "text": [
      "[nltk_data] Downloading package stopwords to\n",
      "[nltk_data]     C:\\Users\\91738\\AppData\\Roaming\\nltk_data...\n",
      "[nltk_data]   Package stopwords is already up-to-date!\n"
     ]
    },
    {
     "data": {
      "text/plain": [
       "True"
      ]
     },
     "execution_count": 44,
     "metadata": {},
     "output_type": "execute_result"
    }
   ],
   "source": [
    "nltk.download('stopwords')"
   ]
  },
  {
   "cell_type": "code",
   "execution_count": 45,
   "id": "e982349f-0bd3-4191-86e5-fd62a22759f4",
   "metadata": {},
   "outputs": [
    {
     "data": {
      "text/plain": [
       "{'a',\n",
       " 'about',\n",
       " 'above',\n",
       " 'after',\n",
       " 'again',\n",
       " 'against',\n",
       " 'ain',\n",
       " 'all',\n",
       " 'am',\n",
       " 'an',\n",
       " 'and',\n",
       " 'any',\n",
       " 'are',\n",
       " 'aren',\n",
       " \"aren't\",\n",
       " 'as',\n",
       " 'at',\n",
       " 'be',\n",
       " 'because',\n",
       " 'been',\n",
       " 'before',\n",
       " 'being',\n",
       " 'below',\n",
       " 'between',\n",
       " 'both',\n",
       " 'but',\n",
       " 'by',\n",
       " 'can',\n",
       " 'couldn',\n",
       " \"couldn't\",\n",
       " 'd',\n",
       " 'did',\n",
       " 'didn',\n",
       " \"didn't\",\n",
       " 'do',\n",
       " 'does',\n",
       " 'doesn',\n",
       " \"doesn't\",\n",
       " 'doing',\n",
       " 'don',\n",
       " \"don't\",\n",
       " 'down',\n",
       " 'during',\n",
       " 'each',\n",
       " 'few',\n",
       " 'for',\n",
       " 'from',\n",
       " 'further',\n",
       " 'had',\n",
       " 'hadn',\n",
       " \"hadn't\",\n",
       " 'has',\n",
       " 'hasn',\n",
       " \"hasn't\",\n",
       " 'have',\n",
       " 'haven',\n",
       " \"haven't\",\n",
       " 'having',\n",
       " 'he',\n",
       " 'her',\n",
       " 'here',\n",
       " 'hers',\n",
       " 'herself',\n",
       " 'him',\n",
       " 'himself',\n",
       " 'his',\n",
       " 'how',\n",
       " 'i',\n",
       " 'if',\n",
       " 'in',\n",
       " 'into',\n",
       " 'is',\n",
       " 'isn',\n",
       " \"isn't\",\n",
       " 'it',\n",
       " \"it's\",\n",
       " 'its',\n",
       " 'itself',\n",
       " 'just',\n",
       " 'll',\n",
       " 'm',\n",
       " 'ma',\n",
       " 'me',\n",
       " 'mightn',\n",
       " \"mightn't\",\n",
       " 'more',\n",
       " 'most',\n",
       " 'mustn',\n",
       " \"mustn't\",\n",
       " 'my',\n",
       " 'myself',\n",
       " 'needn',\n",
       " \"needn't\",\n",
       " 'no',\n",
       " 'nor',\n",
       " 'not',\n",
       " 'now',\n",
       " 'o',\n",
       " 'of',\n",
       " 'off',\n",
       " 'on',\n",
       " 'once',\n",
       " 'only',\n",
       " 'or',\n",
       " 'other',\n",
       " 'our',\n",
       " 'ours',\n",
       " 'ourselves',\n",
       " 'out',\n",
       " 'over',\n",
       " 'own',\n",
       " 're',\n",
       " 's',\n",
       " 'same',\n",
       " 'shan',\n",
       " \"shan't\",\n",
       " 'she',\n",
       " \"she's\",\n",
       " 'should',\n",
       " \"should've\",\n",
       " 'shouldn',\n",
       " \"shouldn't\",\n",
       " 'so',\n",
       " 'some',\n",
       " 'such',\n",
       " 't',\n",
       " 'than',\n",
       " 'that',\n",
       " \"that'll\",\n",
       " 'the',\n",
       " 'their',\n",
       " 'theirs',\n",
       " 'them',\n",
       " 'themselves',\n",
       " 'then',\n",
       " 'there',\n",
       " 'these',\n",
       " 'they',\n",
       " 'this',\n",
       " 'those',\n",
       " 'through',\n",
       " 'to',\n",
       " 'too',\n",
       " 'under',\n",
       " 'until',\n",
       " 'up',\n",
       " 've',\n",
       " 'very',\n",
       " 'was',\n",
       " 'wasn',\n",
       " \"wasn't\",\n",
       " 'we',\n",
       " 'were',\n",
       " 'weren',\n",
       " \"weren't\",\n",
       " 'what',\n",
       " 'when',\n",
       " 'where',\n",
       " 'which',\n",
       " 'while',\n",
       " 'who',\n",
       " 'whom',\n",
       " 'why',\n",
       " 'will',\n",
       " 'with',\n",
       " 'won',\n",
       " \"won't\",\n",
       " 'wouldn',\n",
       " \"wouldn't\",\n",
       " 'y',\n",
       " 'you',\n",
       " \"you'd\",\n",
       " \"you'll\",\n",
       " \"you're\",\n",
       " \"you've\",\n",
       " 'your',\n",
       " 'yours',\n",
       " 'yourself',\n",
       " 'yourselves'}"
      ]
     },
     "execution_count": 45,
     "metadata": {},
     "output_type": "execute_result"
    }
   ],
   "source": [
    "stop_words"
   ]
  },
  {
   "cell_type": "code",
   "execution_count": 46,
   "id": "766810b1-b30b-40ba-9ca7-1e24965e5726",
   "metadata": {},
   "outputs": [],
   "source": [
    "filtered_words=[word for word in words if word.lower() not in stop_words]"
   ]
  },
  {
   "cell_type": "code",
   "execution_count": 47,
   "id": "f92eba40-2654-4f63-aa10-d564b4f6e7bb",
   "metadata": {},
   "outputs": [],
   "source": [
    "filtered_text=\" \".join(filtered_words)"
   ]
  },
  {
   "cell_type": "code",
   "execution_count": 48,
   "id": "271eaaf2-ebf1-48b1-8898-f1fecf9b5cb0",
   "metadata": {},
   "outputs": [
    {
     "name": "stdout",
     "output_type": "stream",
     "text": [
      "sample text perform tokenization things\n"
     ]
    }
   ],
   "source": [
    "print(filtered_text)"
   ]
  },
  {
   "cell_type": "code",
   "execution_count": 49,
   "id": "8fbc8126-2214-4f69-a880-5cb4c0c3004e",
   "metadata": {},
   "outputs": [],
   "source": [
    "from nltk.stem import PorterStemmer "
   ]
  },
  {
   "cell_type": "code",
   "execution_count": 51,
   "id": "65fd71a1-436e-43df-8f76-120222677de1",
   "metadata": {},
   "outputs": [],
   "source": [
    "ps = PorterStemmer().stem(sample_text)"
   ]
  },
  {
   "cell_type": "code",
   "execution_count": 52,
   "id": "a6b4cf64-054e-4b32-840e-818d5845f847",
   "metadata": {},
   "outputs": [
    {
     "name": "stdout",
     "output_type": "stream",
     "text": [
      "these is the sample text in which we will perform tokenization and all other th\n"
     ]
    }
   ],
   "source": [
    "print(ps)"
   ]
  },
  {
   "cell_type": "code",
   "execution_count": 53,
   "id": "d211e80b-c9b2-4f2f-8710-ca2024a110c7",
   "metadata": {},
   "outputs": [
    {
     "name": "stdout",
     "output_type": "stream",
     "text": [
      "['these is first document ', 'these is second one ', 'these is third one ']\n"
     ]
    }
   ],
   "source": [
    "d1 = \"these is first document \"\n",
    "d2 = 'these is second one ' \n",
    "d3 = 'these is third one ' \n",
    "overall = [d1,d2,d3]\n",
    "print(overall)"
   ]
  },
  {
   "cell_type": "code",
   "execution_count": 54,
   "id": "8dff2311-57f6-466b-8ffe-35584a6cbe4e",
   "metadata": {},
   "outputs": [],
   "source": [
    "from sklearn.feature_extraction.text import TfidfVectorizer"
   ]
  },
  {
   "cell_type": "code",
   "execution_count": 56,
   "id": "bc74599b-826d-4861-9236-809873b3a3d6",
   "metadata": {},
   "outputs": [],
   "source": [
    "result = TfidfVectorizer().fit_transform(overall)"
   ]
  },
  {
   "cell_type": "code",
   "execution_count": 57,
   "id": "f33f7d98-b807-40e1-bfbb-f7ed014be451",
   "metadata": {},
   "outputs": [
    {
     "name": "stdout",
     "output_type": "stream",
     "text": [
      "  (0, 0)\t0.6088450986844796\n",
      "  (0, 1)\t0.6088450986844796\n",
      "  (0, 2)\t0.35959372325985667\n",
      "  (0, 5)\t0.35959372325985667\n",
      "  (1, 3)\t0.5041068915759233\n",
      "  (1, 4)\t0.6628399823470976\n",
      "  (1, 2)\t0.39148397136265967\n",
      "  (1, 5)\t0.39148397136265967\n",
      "  (2, 6)\t0.6628399823470976\n",
      "  (2, 3)\t0.5041068915759233\n",
      "  (2, 2)\t0.39148397136265967\n",
      "  (2, 5)\t0.39148397136265967\n"
     ]
    }
   ],
   "source": [
    "print(result )"
   ]
  },
  {
   "cell_type": "code",
   "execution_count": 60,
   "id": "79c2272a-3890-409e-b52f-be690c82334d",
   "metadata": {},
   "outputs": [
    {
     "name": "stdout",
     "output_type": "stream",
     "text": [
      "[[0.6088451  0.6088451  0.35959372 0.         0.         0.35959372\n",
      "  0.        ]\n",
      " [0.         0.         0.39148397 0.50410689 0.66283998 0.39148397\n",
      "  0.        ]\n",
      " [0.         0.         0.39148397 0.50410689 0.         0.39148397\n",
      "  0.66283998]]\n"
     ]
    }
   ],
   "source": [
    "print(result.toarray())"
   ]
  },
  {
   "cell_type": "code",
   "execution_count": null,
   "id": "9b841371-b165-400c-9e05-0a8ba87dfa16",
   "metadata": {},
   "outputs": [],
   "source": []
  },
  {
   "cell_type": "code",
   "execution_count": null,
   "id": "1b4dae46-3714-4eca-bd5b-eebbd8880c0f",
   "metadata": {},
   "outputs": [],
   "source": []
  }
 ],
 "metadata": {
  "kernelspec": {
   "display_name": "Python 3 (ipykernel)",
   "language": "python",
   "name": "python3"
  },
  "language_info": {
   "codemirror_mode": {
    "name": "ipython",
    "version": 3
   },
   "file_extension": ".py",
   "mimetype": "text/x-python",
   "name": "python",
   "nbconvert_exporter": "python",
   "pygments_lexer": "ipython3",
   "version": "3.10.2"
  }
 },
 "nbformat": 4,
 "nbformat_minor": 5
}
