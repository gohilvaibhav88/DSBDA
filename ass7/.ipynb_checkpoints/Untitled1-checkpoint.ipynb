{
 "cells": [
  {
   "cell_type": "code",
   "execution_count": 1,
   "id": "2efa7ccc-a906-4e8b-871f-e96893d5c58c",
   "metadata": {},
   "outputs": [],
   "source": [
    "st=\"these is the for the practise of assignment for upcoming exam \" \n",
    "import nltk"
   ]
  },
  {
   "cell_type": "code",
   "execution_count": 3,
   "id": "9401d62f-67ab-468d-bd91-b735ce2faf18",
   "metadata": {},
   "outputs": [],
   "source": [
    "from nltk.tokenize import word_tokenize"
   ]
  },
  {
   "cell_type": "code",
   "execution_count": 4,
   "id": "06d040c4-551b-44e0-9d8a-81b3f0cb93a2",
   "metadata": {},
   "outputs": [],
   "source": [
    "w=word_tokenize(st)"
   ]
  },
  {
   "cell_type": "code",
   "execution_count": 5,
   "id": "4a7fc755-abc1-4ad3-805c-16c461194d87",
   "metadata": {},
   "outputs": [
    {
     "name": "stdout",
     "output_type": "stream",
     "text": [
      "['these', 'is', 'the', 'for', 'the', 'practise', 'of', 'assignment', 'for', 'upcoming', 'exam']\n"
     ]
    }
   ],
   "source": [
    "print(w)"
   ]
  },
  {
   "cell_type": "code",
   "execution_count": 7,
   "id": "575cbb63-cbbf-4cb1-b114-456cffb52251",
   "metadata": {},
   "outputs": [],
   "source": [
    "from nltk.corpus import stopwords"
   ]
  },
  {
   "cell_type": "code",
   "execution_count": 8,
   "id": "1bcf3a80-9b07-4651-ac0b-cd5df925091f",
   "metadata": {},
   "outputs": [],
   "source": [
    "sw = set(stopwords.words('english'))"
   ]
  },
  {
   "cell_type": "code",
   "execution_count": 9,
   "id": "f0e4a682-385b-4235-a0d1-2a107539f417",
   "metadata": {},
   "outputs": [
    {
     "name": "stdout",
     "output_type": "stream",
     "text": [
      "{'nor', 'me', 'does', 'where', 'was', 'shan', 's', 'up', 'being', 'here', 'against', \"you're\", 'been', 'him', \"needn't\", 'which', 'are', 'the', 'ours', 'only', 'over', 'any', 'that', 'below', 'this', 'further', 't', \"didn't\", 'they', 'y', 'whom', 'having', 'you', 'theirs', 'such', 'its', 'again', 'from', 'own', 'm', 'each', 'on', 'because', 'out', 'weren', \"you'll\", 'those', \"should've\", \"hasn't\", 'my', 'while', \"aren't\", \"that'll\", 'our', 'needn', 'can', 'should', 'don', 'your', 'off', 'i', 'what', 'same', 'doing', 'too', 'down', 'most', 'once', 'do', 'why', 'under', 'aren', 'yours', 'during', \"don't\", \"shan't\", 'for', \"won't\", 'by', 'few', 'o', 'ourselves', 'shouldn', 'her', 'through', 'myself', 'who', 'hadn', 'had', 'a', \"hadn't\", 'were', 'is', 'did', \"wasn't\", 'in', \"she's\", 'their', 'to', 'more', 'it', 'as', 'these', 'at', 'he', 'have', 'has', 'doesn', 'haven', \"wouldn't\", 'didn', 'now', 'but', 'ain', \"doesn't\", 'wouldn', 're', 'into', 'herself', \"you'd\", 'mustn', 'some', 'of', 'just', 'd', 'yourselves', \"mightn't\", 'there', 'above', 'hasn', 'not', 'am', 'yourself', 'until', 'and', 'then', 'will', 'if', 'all', \"weren't\", 'no', 'or', 'be', 've', \"haven't\", 'an', 'she', 'couldn', 'ma', 'other', \"shouldn't\", 'so', 'll', 'than', 'isn', 'both', \"isn't\", 'mightn', \"couldn't\", 'we', 'themselves', 'them', 'won', 'himself', 'his', 'with', 'after', 'before', \"you've\", 'about', 'hers', \"it's\", 'when', 'very', 'between', 'how', 'wasn', 'itself', \"mustn't\"}\n"
     ]
    }
   ],
   "source": [
    "print(sw)"
   ]
  },
  {
   "cell_type": "code",
   "execution_count": 11,
   "id": "d7eccdb4-f432-40a2-9ef7-0f9d22675071",
   "metadata": {},
   "outputs": [],
   "source": [
    "ft=[word for word in w if word.lower() not in sw]"
   ]
  },
  {
   "cell_type": "code",
   "execution_count": 12,
   "id": "523645c1-e9c4-4d25-8fc0-317b685c2ed0",
   "metadata": {},
   "outputs": [
    {
     "name": "stdout",
     "output_type": "stream",
     "text": [
      "['practise', 'assignment', 'upcoming', 'exam']\n"
     ]
    }
   ],
   "source": [
    "print(ft)"
   ]
  },
  {
   "cell_type": "code",
   "execution_count": 13,
   "id": "f8dd1485-a473-49af-b5fd-0106b889b5c1",
   "metadata": {},
   "outputs": [],
   "source": [
    "from nltk.stem import PorterStemmer"
   ]
  },
  {
   "cell_type": "code",
   "execution_count": 14,
   "id": "e7dc565b-5eee-454b-8a5b-b7d760e37c4a",
   "metadata": {},
   "outputs": [],
   "source": [
    "ps = PorterStemmer().stem(st)"
   ]
  },
  {
   "cell_type": "code",
   "execution_count": 15,
   "id": "b628916f-f1be-485f-8df7-4486caace46b",
   "metadata": {},
   "outputs": [
    {
     "name": "stdout",
     "output_type": "stream",
     "text": [
      "these is the for the practise of assignment for upcoming exam \n"
     ]
    }
   ],
   "source": [
    "print(ps)"
   ]
  },
  {
   "cell_type": "code",
   "execution_count": 16,
   "id": "77a7c144-7535-4f24-bb43-546c99a22e24",
   "metadata": {},
   "outputs": [
    {
     "name": "stdout",
     "output_type": "stream",
     "text": [
      "['these is 1 document', ' these is 2 document ', 'these is 3 document ']\n"
     ]
    }
   ],
   "source": [
    "t1=\"these is 1 document\" \n",
    "t2 = \" these is 2 document \" \n",
    "t3 = \"these is 3 document \" \n",
    "overall =[ t1,t2,t3]\n",
    "print(overall)"
   ]
  },
  {
   "cell_type": "code",
   "execution_count": 18,
   "id": "b747d35c-402a-4688-9136-36e87799699a",
   "metadata": {},
   "outputs": [],
   "source": [
    "from sklearn.feature_extraction.text import TfidfVectorizer"
   ]
  },
  {
   "cell_type": "code",
   "execution_count": 19,
   "id": "c812269e-09d2-4fc5-91f6-fb7915f36cfe",
   "metadata": {},
   "outputs": [],
   "source": [
    "result = TfidfVectorizer().fit_transform(overall)"
   ]
  },
  {
   "cell_type": "code",
   "execution_count": 20,
   "id": "7a33000e-8040-44b3-b5b6-cc898a64d144",
   "metadata": {},
   "outputs": [
    {
     "name": "stdout",
     "output_type": "stream",
     "text": [
      "  (0, 0)\t0.5773502691896258\n",
      "  (0, 1)\t0.5773502691896258\n",
      "  (0, 2)\t0.5773502691896258\n",
      "  (1, 0)\t0.5773502691896258\n",
      "  (1, 1)\t0.5773502691896258\n",
      "  (1, 2)\t0.5773502691896258\n",
      "  (2, 0)\t0.5773502691896258\n",
      "  (2, 1)\t0.5773502691896258\n",
      "  (2, 2)\t0.5773502691896258\n"
     ]
    }
   ],
   "source": [
    "print(result)"
   ]
  },
  {
   "cell_type": "code",
   "execution_count": 22,
   "id": "799e5be3-0ba5-41cd-83b8-7b54406d47c7",
   "metadata": {},
   "outputs": [
    {
     "name": "stdout",
     "output_type": "stream",
     "text": [
      "[[0.57735027 0.57735027 0.57735027]\n",
      " [0.57735027 0.57735027 0.57735027]\n",
      " [0.57735027 0.57735027 0.57735027]]\n"
     ]
    }
   ],
   "source": [
    "print(result.toarray())"
   ]
  },
  {
   "cell_type": "code",
   "execution_count": null,
   "id": "c0ff3c45-8064-4417-ae19-0be6a3c40d45",
   "metadata": {},
   "outputs": [],
   "source": []
  }
 ],
 "metadata": {
  "kernelspec": {
   "display_name": "Python 3 (ipykernel)",
   "language": "python",
   "name": "python3"
  },
  "language_info": {
   "codemirror_mode": {
    "name": "ipython",
    "version": 3
   },
   "file_extension": ".py",
   "mimetype": "text/x-python",
   "name": "python",
   "nbconvert_exporter": "python",
   "pygments_lexer": "ipython3",
   "version": "3.10.2"
  }
 },
 "nbformat": 4,
 "nbformat_minor": 5
}
